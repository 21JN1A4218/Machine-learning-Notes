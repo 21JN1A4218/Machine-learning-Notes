{
  "nbformat": 4,
  "nbformat_minor": 0,
  "metadata": {
    "colab": {
      "provenance": [],
      "authorship_tag": "ABX9TyPUsVf7xA9A2dgcid9c/aPl",
      "include_colab_link": true
    },
    "kernelspec": {
      "name": "python3",
      "display_name": "Python 3"
    },
    "language_info": {
      "name": "python"
    }
  },
  "cells": [
    {
      "cell_type": "markdown",
      "metadata": {
        "id": "view-in-github",
        "colab_type": "text"
      },
      "source": [
        "<a href=\"https://colab.research.google.com/github/21JN1A4218/Machine-learning-Notes/blob/main/Multi_linear_regression.ipynb\" target=\"_parent\"><img src=\"https://colab.research.google.com/assets/colab-badge.svg\" alt=\"Open In Colab\"/></a>"
      ]
    },
    {
      "cell_type": "code",
      "execution_count": 1,
      "metadata": {
        "id": "-e9l6v2SlvsM"
      },
      "outputs": [],
      "source": [
        "import pandas as pd\n",
        "import numpy as np\n",
        "import matplotlib.pyplot as plt"
      ]
    },
    {
      "cell_type": "code",
      "source": [
        "data_set=pd.read_csv(\"/content/Covid_data Multiple Linear Regr.csv\")\n",
        "X=data_set.iloc[:, :-1].values\n",
        "y=data_set.iloc[:,-1].values"
      ],
      "metadata": {
        "id": "eg37Ilm_nt_7"
      },
      "execution_count": 3,
      "outputs": []
    },
    {
      "cell_type": "code",
      "source": [
        "print(y)"
      ],
      "metadata": {
        "colab": {
          "base_uri": "https://localhost:8080/"
        },
        "id": "rMvqAoVei9XX",
        "outputId": "eb950230-873d-4950-8777-c577ce7f936f"
      },
      "execution_count": 6,
      "outputs": [
        {
          "output_type": "stream",
          "name": "stdout",
          "text": [
            "[127181  61004 111911  39010 110911  99110 110101  37914  45019  98101\n",
            " 101000 102019 100000  99910  99004  98191  98081 110911  97101  95202\n",
            "  95010  61002  59994  78010  92010  99008  93010  66019  93091  92101\n",
            "  83891  75012  91002  90015  90001  90124  71019  60801  67010  90191\n",
            "  78004  87019  88012  62019  87005  84008  77010  73010  91019  50104\n",
            "  61082  46016  52001  63091  62019  71191  61018  41891  56095  62001\n",
            "  59010  59913  67019  58010  57019  39010  91141 112101  42010  42099]\n",
            "[127181  61004 111911  39010 110911  99110 110101  37914  45019  98101\n",
            " 101000 102019 100000  99910  99004  98191  98081 110911  97101  95202\n",
            "  95010  61002  59994  78010  92010  99008  93010  66019  93091  92101\n",
            "  83891  75012  91002  90015  90001  90124  71019  60801  67010  90191\n",
            "  78004  87019  88012  62019  87005  84008  77010  73010  91019  50104\n",
            "  61082  46016  52001  63091  62019  71191  61018  41891  56095  62001\n",
            "  59010  59913  67019  58010  57019  39010  91141 112101  42010  42099]\n"
          ]
        }
      ]
    },
    {
      "cell_type": "code",
      "source": [
        "from sklearn.compose import ColumnTransformer\n",
        "from sklearn.preprocessing import OneHotEncoder\n",
        "ct= ColumnTransformer(transformers=[('encoder', OneHotEncoder(), [1])], remainder='passthrough')\n",
        "X= np.array(ct.fit_transform(X))"
      ],
      "metadata": {
        "id": "qGNFzPryk__T"
      },
      "execution_count": 8,
      "outputs": []
    },
    {
      "cell_type": "code",
      "source": [
        "print(X)"
      ],
      "metadata": {
        "id": "1nHyMvyYl6B7",
        "outputId": "5f6affd8-0918-437b-f9b5-55ab2875c145",
        "colab": {
          "base_uri": "https://localhost:8080/"
        }
      },
      "execution_count": 9,
      "outputs": [
        {
          "output_type": "stream",
          "name": "stdout",
          "text": [
            "[[0.0 0.0 1.0 10 0 97]\n",
            " [1.0 0.0 0.0 80 0 92]\n",
            " [0.0 1.0 0.0 10 0 97]\n",
            " [1.0 0.0 0.0 81 4 75]\n",
            " [0.0 0.0 1.0 12 0 97]\n",
            " [0.0 1.0 0.0 18 0 66]\n",
            " [0.0 0.0 1.0 13 0 93]\n",
            " [1.0 0.0 0.0 94 4 64]\n",
            " [1.0 0.0 0.0 86 2 76]\n",
            " [0.0 0.0 1.0 20 0 92]\n",
            " [0.0 0.0 1.0 15 0 94]\n",
            " [0.0 0.0 1.0 15 0 92]\n",
            " [0.0 1.0 0.0 16 0 92]\n",
            " [0.0 0.0 1.0 17 0 93]\n",
            " [0.0 0.0 1.0 18 0 93]\n",
            " [0.0 0.0 1.0 19 0 92]\n",
            " [0.0 0.0 1.0 19 0 89]\n",
            " [0.0 0.0 1.0 12 0 97]\n",
            " [0.0 0.0 1.0 20 0 93]\n",
            " [0.0 0.0 1.0 24 0 92]\n",
            " [0.0 0.0 1.0 25 0 93]\n",
            " [1.0 0.0 0.0 59 2 68]\n",
            " [1.0 0.0 0.0 63 1 66]\n",
            " [0.0 0.0 1.0 25 1 62]\n",
            " [1.0 0.0 0.0 26 0 94]\n",
            " [0.0 1.0 0.0 26 0 97]\n",
            " [0.0 0.0 1.0 28 0 99]\n",
            " [1.0 0.0 0.0 59 0 69]\n",
            " [0.0 0.0 1.0 28 0 89]\n",
            " [0.0 0.0 1.0 29 0 93]\n",
            " [0.0 0.0 1.0 48 0 93]\n",
            " [0.0 0.0 1.0 30 0 62]\n",
            " [0.0 0.0 1.0 30 0 86]\n",
            " [0.0 0.0 1.0 32 0 84]\n",
            " [0.0 0.0 1.0 34 1 90]\n",
            " [0.0 0.0 1.0 35 0 89]\n",
            " [1.0 0.0 0.0 50 2 77]\n",
            " [1.0 0.0 0.0 56 2 76]\n",
            " [1.0 0.0 0.0 56 1 77]\n",
            " [1.0 0.0 0.0 36 1 90]\n",
            " [1.0 0.0 0.0 38 2 75]\n",
            " [0.0 0.0 1.0 40 0 90]\n",
            " [1.0 0.0 0.0 40 0 92]\n",
            " [1.0 0.0 0.0 61 2 76]\n",
            " [1.0 0.0 0.0 42 0 92]\n",
            " [1.0 0.0 0.0 46 0 91]\n",
            " [0.0 0.0 1.0 49 0 80]\n",
            " [1.0 0.0 0.0 52 1 80]\n",
            " [0.0 0.0 1.0 32 0 89]\n",
            " [1.0 0.0 0.0 53 1 55]\n",
            " [1.0 0.0 0.0 54 1 70]\n",
            " [1.0 0.0 0.0 90 3 67]\n",
            " [1.0 0.0 0.0 78 2 71]\n",
            " [1.0 0.0 0.0 58 0 70]\n",
            " [1.0 0.0 0.0 60 1 68]\n",
            " [0.0 0.0 1.0 61 0 90]\n",
            " [1.0 0.0 0.0 62 1 68]\n",
            " [1.0 0.0 0.0 86 3 71]\n",
            " [1.0 0.0 0.0 62 2 69]\n",
            " [1.0 0.0 0.0 64 1 73]\n",
            " [1.0 0.0 0.0 68 1 67]\n",
            " [1.0 0.0 0.0 69 0 53]\n",
            " [0.0 0.0 1.0 70 1 88]\n",
            " [1.0 0.0 0.0 74 2 75]\n",
            " [1.0 0.0 0.0 75 1 72]\n",
            " [1.0 0.0 0.0 76 4 80]\n",
            " [0.0 0.0 1.0 35 0 92]\n",
            " [0.0 0.0 1.0 13 0 94]\n",
            " [1.0 0.0 0.0 82 3 73]\n",
            " [1.0 0.0 0.0 84 3 75]]\n"
          ]
        }
      ]
    },
    {
      "cell_type": "code",
      "source": [
        "from sklearn.model_selection import train_test_split\n",
        "x_train,x_test,y_train,y_test=train_test_split(X,y,test_size=0.1,random_state=0)"
      ],
      "metadata": {
        "id": "ijM-Jriphcru"
      },
      "execution_count": 21,
      "outputs": []
    },
    {
      "cell_type": "code",
      "source": [
        "from sklearn.linear_model import LinearRegression\n",
        "regressor=LinearRegression()\n",
        "regressor.fit(x_train,y_train)"
      ],
      "metadata": {
        "id": "yyGsTQEon89Q",
        "outputId": "2109dab8-8583-4520-d6a2-898fca440783",
        "colab": {
          "base_uri": "https://localhost:8080/",
          "height": 75
        }
      },
      "execution_count": 22,
      "outputs": [
        {
          "output_type": "execute_result",
          "data": {
            "text/plain": [
              "LinearRegression()"
            ],
            "text/html": [
              "<style>#sk-container-id-4 {color: black;}#sk-container-id-4 pre{padding: 0;}#sk-container-id-4 div.sk-toggleable {background-color: white;}#sk-container-id-4 label.sk-toggleable__label {cursor: pointer;display: block;width: 100%;margin-bottom: 0;padding: 0.3em;box-sizing: border-box;text-align: center;}#sk-container-id-4 label.sk-toggleable__label-arrow:before {content: \"▸\";float: left;margin-right: 0.25em;color: #696969;}#sk-container-id-4 label.sk-toggleable__label-arrow:hover:before {color: black;}#sk-container-id-4 div.sk-estimator:hover label.sk-toggleable__label-arrow:before {color: black;}#sk-container-id-4 div.sk-toggleable__content {max-height: 0;max-width: 0;overflow: hidden;text-align: left;background-color: #f0f8ff;}#sk-container-id-4 div.sk-toggleable__content pre {margin: 0.2em;color: black;border-radius: 0.25em;background-color: #f0f8ff;}#sk-container-id-4 input.sk-toggleable__control:checked~div.sk-toggleable__content {max-height: 200px;max-width: 100%;overflow: auto;}#sk-container-id-4 input.sk-toggleable__control:checked~label.sk-toggleable__label-arrow:before {content: \"▾\";}#sk-container-id-4 div.sk-estimator input.sk-toggleable__control:checked~label.sk-toggleable__label {background-color: #d4ebff;}#sk-container-id-4 div.sk-label input.sk-toggleable__control:checked~label.sk-toggleable__label {background-color: #d4ebff;}#sk-container-id-4 input.sk-hidden--visually {border: 0;clip: rect(1px 1px 1px 1px);clip: rect(1px, 1px, 1px, 1px);height: 1px;margin: -1px;overflow: hidden;padding: 0;position: absolute;width: 1px;}#sk-container-id-4 div.sk-estimator {font-family: monospace;background-color: #f0f8ff;border: 1px dotted black;border-radius: 0.25em;box-sizing: border-box;margin-bottom: 0.5em;}#sk-container-id-4 div.sk-estimator:hover {background-color: #d4ebff;}#sk-container-id-4 div.sk-parallel-item::after {content: \"\";width: 100%;border-bottom: 1px solid gray;flex-grow: 1;}#sk-container-id-4 div.sk-label:hover label.sk-toggleable__label {background-color: #d4ebff;}#sk-container-id-4 div.sk-serial::before {content: \"\";position: absolute;border-left: 1px solid gray;box-sizing: border-box;top: 0;bottom: 0;left: 50%;z-index: 0;}#sk-container-id-4 div.sk-serial {display: flex;flex-direction: column;align-items: center;background-color: white;padding-right: 0.2em;padding-left: 0.2em;position: relative;}#sk-container-id-4 div.sk-item {position: relative;z-index: 1;}#sk-container-id-4 div.sk-parallel {display: flex;align-items: stretch;justify-content: center;background-color: white;position: relative;}#sk-container-id-4 div.sk-item::before, #sk-container-id-4 div.sk-parallel-item::before {content: \"\";position: absolute;border-left: 1px solid gray;box-sizing: border-box;top: 0;bottom: 0;left: 50%;z-index: -1;}#sk-container-id-4 div.sk-parallel-item {display: flex;flex-direction: column;z-index: 1;position: relative;background-color: white;}#sk-container-id-4 div.sk-parallel-item:first-child::after {align-self: flex-end;width: 50%;}#sk-container-id-4 div.sk-parallel-item:last-child::after {align-self: flex-start;width: 50%;}#sk-container-id-4 div.sk-parallel-item:only-child::after {width: 0;}#sk-container-id-4 div.sk-dashed-wrapped {border: 1px dashed gray;margin: 0 0.4em 0.5em 0.4em;box-sizing: border-box;padding-bottom: 0.4em;background-color: white;}#sk-container-id-4 div.sk-label label {font-family: monospace;font-weight: bold;display: inline-block;line-height: 1.2em;}#sk-container-id-4 div.sk-label-container {text-align: center;}#sk-container-id-4 div.sk-container {/* jupyter's `normalize.less` sets `[hidden] { display: none; }` but bootstrap.min.css set `[hidden] { display: none !important; }` so we also need the `!important` here to be able to override the default hidden behavior on the sphinx rendered scikit-learn.org. See: https://github.com/scikit-learn/scikit-learn/issues/21755 */display: inline-block !important;position: relative;}#sk-container-id-4 div.sk-text-repr-fallback {display: none;}</style><div id=\"sk-container-id-4\" class=\"sk-top-container\"><div class=\"sk-text-repr-fallback\"><pre>LinearRegression()</pre><b>In a Jupyter environment, please rerun this cell to show the HTML representation or trust the notebook. <br />On GitHub, the HTML representation is unable to render, please try loading this page with nbviewer.org.</b></div><div class=\"sk-container\" hidden><div class=\"sk-item\"><div class=\"sk-estimator sk-toggleable\"><input class=\"sk-toggleable__control sk-hidden--visually\" id=\"sk-estimator-id-4\" type=\"checkbox\" checked><label for=\"sk-estimator-id-4\" class=\"sk-toggleable__label sk-toggleable__label-arrow\">LinearRegression</label><div class=\"sk-toggleable__content\"><pre>LinearRegression()</pre></div></div></div></div></div>"
            ]
          },
          "metadata": {},
          "execution_count": 22
        }
      ]
    },
    {
      "cell_type": "code",
      "source": [
        "y_pred=regressor.predict(x_test)\n",
        "np.set_printoptions(precision=2)\n",
        "print(np.concatenate((y_pred.reshape(len(y_pred),1),y_test.reshape(len(y_test),1)),1))"
      ],
      "metadata": {
        "id": "w4yTsm0er1si",
        "outputId": "8d18a1b9-68de-4e1f-d813-c75ac9cc45be",
        "colab": {
          "base_uri": "https://localhost:8080/"
        }
      },
      "execution_count": 23,
      "outputs": [
        {
          "output_type": "stream",
          "name": "stdout",
          "text": [
            "[[98650.68 93010.  ]\n",
            " [65963.45 66019.  ]\n",
            " [91583.66 91019.  ]\n",
            " [58575.17 59994.  ]\n",
            " [83330.4  83891.  ]\n",
            " [35021.37 46016.  ]\n",
            " [27633.09 37914.  ]]\n"
          ]
        }
      ]
    },
    {
      "cell_type": "code",
      "source": [
        "plt.plot(y_pred)\n",
        "plt.plot(y_test)\n",
        "plt.show"
      ],
      "metadata": {
        "id": "nQaiV9iMt4Vz",
        "outputId": "c3adb0c1-28fa-413e-a547-14307339ca89",
        "colab": {
          "base_uri": "https://localhost:8080/",
          "height": 600
        }
      },
      "execution_count": 24,
      "outputs": [
        {
          "output_type": "execute_result",
          "data": {
            "text/plain": [
              "<function matplotlib.pyplot.show(close=None, block=None)>"
            ],
            "text/html": [
              "<div style=\"max-width:800px; border: 1px solid var(--colab-border-color);\"><style>\n",
              "      pre.function-repr-contents {\n",
              "        overflow-x: auto;\n",
              "        padding: 8px 12px;\n",
              "        max-height: 500px;\n",
              "      }\n",
              "\n",
              "      pre.function-repr-contents.function-repr-contents-collapsed {\n",
              "        cursor: pointer;\n",
              "        max-height: 100px;\n",
              "      }\n",
              "    </style>\n",
              "    <pre style=\"white-space: initial; background:\n",
              "         var(--colab-secondary-surface-color); padding: 8px 12px;\n",
              "         border-bottom: 1px solid var(--colab-border-color);\"><b>matplotlib.pyplot.show</b><br/>def show(*args, **kwargs)</pre><pre class=\"function-repr-contents function-repr-contents-collapsed\" style=\"\"><a class=\"filepath\" style=\"display:none\" href=\"#\">/usr/local/lib/python3.10/dist-packages/matplotlib/pyplot.py</a>Display all open figures.\n",
              "\n",
              "Parameters\n",
              "----------\n",
              "block : bool, optional\n",
              "    Whether to wait for all figures to be closed before returning.\n",
              "\n",
              "    If `True` block and run the GUI main loop until all figure windows\n",
              "    are closed.\n",
              "\n",
              "    If `False` ensure that all figure windows are displayed and return\n",
              "    immediately.  In this case, you are responsible for ensuring\n",
              "    that the event loop is running to have responsive figures.\n",
              "\n",
              "    Defaults to True in non-interactive mode and to False in interactive\n",
              "    mode (see `.pyplot.isinteractive`).\n",
              "\n",
              "See Also\n",
              "--------\n",
              "ion : Enable interactive mode, which shows / updates the figure after\n",
              "      every plotting command, so that calling ``show()`` is not necessary.\n",
              "ioff : Disable interactive mode.\n",
              "savefig : Save the figure to an image file instead of showing it on screen.\n",
              "\n",
              "Notes\n",
              "-----\n",
              "**Saving figures to file and showing a window at the same time**\n",
              "\n",
              "If you want an image file as well as a user interface window, use\n",
              "`.pyplot.savefig` before `.pyplot.show`. At the end of (a blocking)\n",
              "``show()`` the figure is closed and thus unregistered from pyplot. Calling\n",
              "`.pyplot.savefig` afterwards would save a new and thus empty figure. This\n",
              "limitation of command order does not apply if the show is non-blocking or\n",
              "if you keep a reference to the figure and use `.Figure.savefig`.\n",
              "\n",
              "**Auto-show in jupyter notebooks**\n",
              "\n",
              "The jupyter backends (activated via ``%matplotlib inline``,\n",
              "``%matplotlib notebook``, or ``%matplotlib widget``), call ``show()`` at\n",
              "the end of every cell by default. Thus, you usually don&#x27;t have to call it\n",
              "explicitly there.</pre>\n",
              "      <script>\n",
              "      if (google.colab.kernel.accessAllowed && google.colab.files && google.colab.files.view) {\n",
              "        for (const element of document.querySelectorAll('.filepath')) {\n",
              "          element.style.display = 'block'\n",
              "          element.onclick = (event) => {\n",
              "            event.preventDefault();\n",
              "            event.stopPropagation();\n",
              "            google.colab.files.view(element.textContent, 401);\n",
              "          };\n",
              "        }\n",
              "      }\n",
              "      for (const element of document.querySelectorAll('.function-repr-contents')) {\n",
              "        element.onclick = (event) => {\n",
              "          event.preventDefault();\n",
              "          event.stopPropagation();\n",
              "          element.classList.toggle('function-repr-contents-collapsed');\n",
              "        };\n",
              "      }\n",
              "      </script>\n",
              "      </div>"
            ]
          },
          "metadata": {},
          "execution_count": 24
        },
        {
          "output_type": "display_data",
          "data": {
            "text/plain": [
              "<Figure size 640x480 with 1 Axes>"
            ],
            "image/png": "[encoded data removed]"
          },
          "metadata": {}
        }
      ]
    }
  ]
}