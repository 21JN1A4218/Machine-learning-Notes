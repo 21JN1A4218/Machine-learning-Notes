{
  "nbformat": 4,
  "nbformat_minor": 0,
  "metadata": {
    "colab": {
      "provenance": [],
      "authorship_tag": "ABX9TyNx7nma1K8YtMn0dtL50EPc",
      "include_colab_link": true
    },
    "kernelspec": {
      "name": "python3",
      "display_name": "Python 3"
    },
    "language_info": {
      "name": "python"
    }
  },
  "cells": [
    {
      "cell_type": "markdown",
      "metadata": {
        "id": "view-in-github",
        "colab_type": "text"
      },
      "source": [
        "<a href=\"https://colab.research.google.com/github/21JN1A4218/Machine-learning-Notes/blob/main/Data_preprocessing.ipynb\" target=\"_parent\"><img src=\"https://colab.research.google.com/assets/colab-badge.svg\" alt=\"Open In Colab\"/></a>"
      ]
    },
    {
      "cell_type": "markdown",
      "source": [
        "IMPORTING LIBRARIES"
      ],
      "metadata": {
        "id": "OnC2mYFJXKRZ"
      }
    },
    {
      "cell_type": "code",
      "execution_count": 2,
      "metadata": {
        "id": "yZRFCldimJoV"
      },
      "outputs": [],
      "source": [
        "import pandas as pd\n",
        "import matplotlib.pyplot as plt\n",
        "import numpy as np"
      ]
    },
    {
      "cell_type": "markdown",
      "source": [
        "IMPORTING DATASET"
      ],
      "metadata": {
        "id": "QWaQ8fHeXOjA"
      }
    },
    {
      "cell_type": "code",
      "source": [
        "dataset= pd.read_csv(\"Covid_Data_new.csv\")\n",
        "x= dataset.iloc[:, :-2].values\n",
        "y=dataset.iloc[:, -2].values"
      ],
      "metadata": {
        "id": "E069sZD4uf4j"
      },
      "execution_count": 5,
      "outputs": []
    },
    {
      "cell_type": "code",
      "source": [
        "print(x)"
      ],
      "metadata": {
        "colab": {
          "base_uri": "https://localhost:8080/"
        },
        "id": "5Svz1bTwvcxM",
        "outputId": "36681f9c-4848-413d-9d50-1f96fecf8289"
      },
      "execution_count": null,
      "outputs": [
        {
          "output_type": "stream",
          "name": "stdout",
          "text": [
            "[[10.0 'Moderate' 'no' 'no' 97.0]\n",
            " [12.0 'Moderate' 'no' 'no' 97.0]\n",
            " [15.0 'Moderate' 'no' 'no' 94.0]\n",
            " [10.0 'Moderate' 'no' 'no' 97.0]\n",
            " [13.0 'Moderate' 'no' 'no' 94.0]\n",
            " [12.0 'Moderate' 'no' 'no' 97.0]\n",
            " [13.0 'Moderate' 'no' 'no' 93.0]\n",
            " [15.0 'Moderate' 'no' 'no' 92.0]\n",
            " [18.0 'Moderate' 'no' 'no' 66.0]\n",
            " [19.0 'Moderate' 'no' 'no' 92.0]\n",
            " [20.0 'Moderate' 'no' 'no' 93.0]\n",
            " [17.0 'Moderate' 'no' 'no' 93.0]\n",
            " [16.0 'Moderate' 'no' 'no' 92.0]\n",
            " [18.0 'Moderate' 'no' 'no' 93.0]\n",
            " [20.0 'Moderate' 'no' 'no' 92.0]\n",
            " [25.0 'Moderate' 'no' 'no' 93.0]\n",
            " [24.0 'Moderate' 'no' 'no' 92.0]\n",
            " [26.0 'High' 'no' 'no' 94.0]\n",
            " [28.0 'Moderate' 'no' 'no' 99.0]\n",
            " [29.0 'Moderate' 'no' 'no' 93.0]\n",
            " [30.0 'Moderate' 'no' 'no' 62.0]\n",
            " [19.0 'Moderate' 'no' 'no' 89.0]\n",
            " [25.0 'Moderate' 'no' 'yes' 86.0]\n",
            " [26.0 'Moderate' 'no' 'no' nan]\n",
            " [28.0 'Moderate' 'no' 'no' 89.0]\n",
            " [30.0 'Moderate' 'yes' 'no' 86.0]\n",
            " [35.0 'Moderate' 'no' 'no' 89.0]\n",
            " [32.0 'Moderate' 'no' 'yes' 84.0]\n",
            " [nan 'Moderate' 'yes' 'no' 90.0]\n",
            " [32.0 'Moderate' 'no' 'no' 89.0]\n",
            " [35.0 'Moderate' 'no' 'yes' 92.0]\n",
            " [38.0 'High' 'no' 'no' 75.0]\n",
            " [40.0 'Moderate' 'no' 'yes' 90.0]\n",
            " [46.0 'High' 'yes' 'no' 91.0]\n",
            " [48.0 'Moderate' 'no' 'yes' 93.0]\n",
            " [42.0 'High' 'no' 'no' 92.0]\n",
            " [40.0 'High' 'no' 'no' 92.0]\n",
            " [49.0 'Moderate' 'no' 'no' 80.0]\n",
            " [50.0 'High' 'yes' 'yes' 77.0]\n",
            " [36.0 'High' 'yes' 'no' 90.0]\n",
            " [52.0 'High' 'yes' 'yes' 80.0]\n",
            " [56.0 'High' 'yes' 'yes' 77.0]\n",
            " [58.0 'High' 'no' 'no' 70.0]\n",
            " [59.0 'High' 'no' 'yes' 69.0]\n",
            " [60.0 'High' 'yes' 'yes' 68.0]\n",
            " [53.0 'High' 'yes' 'no' 55.0]\n",
            " [54.0 'High' 'yes' 'yes' 70.0]\n",
            " [62.0 'High' 'yes' 'yes' 68.0]\n",
            " [63.0 'High' 'yes' 'yes' 66.0]\n",
            " [68.0 'High' 'yes' 'no' 67.0]\n",
            " [69.0 'High' 'no' 'yes' 53.0]\n",
            " [64.0 'High' 'yes' 'yes' 73.0]\n",
            " [61.0 'High' 'yes' 'yes' 76.0]\n",
            " [70.0 'Moderate' 'no' 'yes' 88.0]\n",
            " [59.0 'High' 'yes' 'no' 68.0]\n",
            " [62.0 'High' 'yes' 'yes' 69.0]\n",
            " [78.0 'High' 'yes' 'yes' 71.0]\n",
            " [74.0 'High' 'yes' 'yes' 75.0]\n",
            " [75.0 'High' 'no' 'yes' 72.0]\n",
            " [56.0 'High' 'yes' 'no' 76.0]\n",
            " [80.0 'High' 'no' 'yes' 92.0]\n",
            " [82.0 'High' 'yes' 'yes' 73.0]\n",
            " [86.0 'High' 'yes' 'yes' 71.0]\n",
            " [90.0 'High' 'yes' 'yes' 67.0]\n",
            " [84.0 'High' 'yes' 'yes' 75.0]\n",
            " [86.0 'High' 'no' 'yes' 76.0]\n",
            " [61.0 'Moderate' 'no' 'yes' 90.0]\n",
            " [94.0 'High' 'yes' 'yes' 64.0]\n",
            " [81.0 'High' 'yes' 'yes' 75.0]\n",
            " [76.0 'High' 'yes' 'yes' 80.0]]\n"
          ]
        }
      ]
    },
    {
      "cell_type": "code",
      "source": [
        "print(y)"
      ],
      "metadata": {
        "colab": {
          "base_uri": "https://localhost:8080/"
        },
        "id": "2nUXMrCuwcuG",
        "outputId": "c19e3d73-5669-4569-aba3-f202ef408f51"
      },
      "execution_count": 6,
      "outputs": [
        {
          "output_type": "stream",
          "name": "stdout",
          "text": [
            "['No' 'No' 'No' 'No' 'No' 'No' 'No' 'No' 'Yes' 'No' 'No' 'No' 'No' 'No'\n",
            " 'No' 'No' 'No' 'No' 'No' 'No' 'Yes' 'No' 'No' 'No' 'No' 'No' 'No' 'No'\n",
            " 'No' 'No' 'No' 'Yes' 'No' 'No' 'No' 'No' 'No' 'Yes' 'Yes' 'No' 'Yes'\n",
            " 'Yes' 'Yes' 'Yes' 'Yes' 'Yes' 'Yes' 'Yes' 'Yes' 'Yes' 'Yes' 'Yes' 'Yes'\n",
            " 'No' 'Yes' 'Yes' 'Yes' 'Yes' 'Yes' 'Yes' 'No' 'Yes' 'Yes' 'Yes' 'Yes'\n",
            " 'Yes' 'No' 'Yes' 'Yes' 'Yes']\n"
          ]
        }
      ]
    },
    {
      "cell_type": "markdown",
      "source": [
        "Handling missing data"
      ],
      "metadata": {
        "id": "ePAPLl7ZXXmR"
      }
    },
    {
      "cell_type": "code",
      "source": [
        "from sklearn.impute import SimpleImputer\n",
        "imputer= SimpleImputer(missing_values=np.nan, strategy='mean')\n",
        "imputer.fit(x[:, 0:1])\n",
        "x[:, 0:1]=imputer.transform(x[:, 0:1])\n",
        "print(x)"
      ],
      "metadata": {
        "colab": {
          "base_uri": "https://localhost:8080/"
        },
        "id": "ISIYAuF32mn4",
        "outputId": "abe977cc-0e9c-4ca5-fc99-610de9f9b5c4"
      },
      "execution_count": 7,
      "outputs": [
        {
          "output_type": "stream",
          "name": "stdout",
          "text": [
            "[[10.0 'Moderate' 'no' 'no' 97.0]\n",
            " [12.0 'Moderate' 'no' 'no' 97.0]\n",
            " [15.0 'Moderate' 'no' 'no' 94.0]\n",
            " [10.0 'Moderate' 'no' 'no' 97.0]\n",
            " [13.0 'Moderate' 'no' 'no' 94.0]\n",
            " [12.0 'Moderate' 'no' 'no' 97.0]\n",
            " [13.0 'Moderate' 'no' 'no' 93.0]\n",
            " [15.0 'Moderate' 'no' 'no' 92.0]\n",
            " [18.0 'Moderate' 'no' 'no' 66.0]\n",
            " [19.0 'Moderate' 'no' 'no' 92.0]\n",
            " [20.0 'Moderate' 'no' 'no' 93.0]\n",
            " [17.0 'Moderate' 'no' 'no' 93.0]\n",
            " [16.0 'Moderate' 'no' 'no' 92.0]\n",
            " [18.0 'Moderate' 'no' 'no' 93.0]\n",
            " [20.0 'Moderate' 'no' 'no' 92.0]\n",
            " [25.0 'Moderate' 'no' 'no' 93.0]\n",
            " [24.0 'Moderate' 'no' 'no' 92.0]\n",
            " [26.0 'High' 'no' 'no' 94.0]\n",
            " [28.0 'Moderate' 'no' 'no' 99.0]\n",
            " [29.0 'Moderate' 'no' 'no' 93.0]\n",
            " [30.0 'Moderate' 'no' 'no' 62.0]\n",
            " [19.0 'Moderate' 'no' 'no' 89.0]\n",
            " [25.0 'Moderate' 'no' 'yes' 86.0]\n",
            " [26.0 'Moderate' 'no' 'no' nan]\n",
            " [28.0 'Moderate' 'no' 'no' 89.0]\n",
            " [30.0 'Moderate' 'yes' 'no' 86.0]\n",
            " [35.0 'Moderate' 'no' 'no' 89.0]\n",
            " [32.0 'Moderate' 'no' 'yes' 84.0]\n",
            " [45.130434782608695 'Moderate' 'yes' 'no' 90.0]\n",
            " [32.0 'Moderate' 'no' 'no' 89.0]\n",
            " [35.0 'Moderate' 'no' 'yes' 92.0]\n",
            " [38.0 'High' 'no' 'no' 75.0]\n",
            " [40.0 'Moderate' 'no' 'yes' 90.0]\n",
            " [46.0 'High' 'yes' 'no' 91.0]\n",
            " [48.0 'Moderate' 'no' 'yes' 93.0]\n",
            " [42.0 'High' 'no' 'no' 92.0]\n",
            " [40.0 'High' 'no' 'no' 92.0]\n",
            " [49.0 'Moderate' 'no' 'no' 80.0]\n",
            " [50.0 'High' 'yes' 'yes' 77.0]\n",
            " [36.0 'High' 'yes' 'no' 90.0]\n",
            " [52.0 'High' 'yes' 'yes' 80.0]\n",
            " [56.0 'High' 'yes' 'yes' 77.0]\n",
            " [58.0 'High' 'no' 'no' 70.0]\n",
            " [59.0 'High' 'no' 'yes' 69.0]\n",
            " [60.0 'High' 'yes' 'yes' 68.0]\n",
            " [53.0 'High' 'yes' 'no' 55.0]\n",
            " [54.0 'High' 'yes' 'yes' 70.0]\n",
            " [62.0 'High' 'yes' 'yes' 68.0]\n",
            " [63.0 'High' 'yes' 'yes' 66.0]\n",
            " [68.0 'High' 'yes' 'no' 67.0]\n",
            " [69.0 'High' 'no' 'yes' 53.0]\n",
            " [64.0 'High' 'yes' 'yes' 73.0]\n",
            " [61.0 'High' 'yes' 'yes' 76.0]\n",
            " [70.0 'Moderate' 'no' 'yes' 88.0]\n",
            " [59.0 'High' 'yes' 'no' 68.0]\n",
            " [62.0 'High' 'yes' 'yes' 69.0]\n",
            " [78.0 'High' 'yes' 'yes' 71.0]\n",
            " [74.0 'High' 'yes' 'yes' 75.0]\n",
            " [75.0 'High' 'no' 'yes' 72.0]\n",
            " [56.0 'High' 'yes' 'no' 76.0]\n",
            " [80.0 'High' 'no' 'yes' 92.0]\n",
            " [82.0 'High' 'yes' 'yes' 73.0]\n",
            " [86.0 'High' 'yes' 'yes' 71.0]\n",
            " [90.0 'High' 'yes' 'yes' 67.0]\n",
            " [84.0 'High' 'yes' 'yes' 75.0]\n",
            " [86.0 'High' 'no' 'yes' 76.0]\n",
            " [61.0 'Moderate' 'no' 'yes' 90.0]\n",
            " [94.0 'High' 'yes' 'yes' 64.0]\n",
            " [81.0 'High' 'yes' 'yes' 75.0]\n",
            " [76.0 'High' 'yes' 'yes' 80.0]]\n"
          ]
        }
      ]
    },
    {
      "cell_type": "code",
      "source": [
        "imputer.fit(x[:, 4:5])\n",
        "x[:, 4:5]=imputer.transform(x[:, 4:5])\n",
        "print(x)"
      ],
      "metadata": {
        "colab": {
          "base_uri": "https://localhost:8080/"
        },
        "id": "W1f2rfY_3Mgy",
        "outputId": "4d16b29d-8ee6-4751-92e2-84b3e1dc0ec2"
      },
      "execution_count": 8,
      "outputs": [
        {
          "output_type": "stream",
          "name": "stdout",
          "text": [
            "[[10.0 'Moderate' 'no' 'no' 97.0]\n",
            " [12.0 'Moderate' 'no' 'no' 97.0]\n",
            " [15.0 'Moderate' 'no' 'no' 94.0]\n",
            " [10.0 'Moderate' 'no' 'no' 97.0]\n",
            " [13.0 'Moderate' 'no' 'no' 94.0]\n",
            " [12.0 'Moderate' 'no' 'no' 97.0]\n",
            " [13.0 'Moderate' 'no' 'no' 93.0]\n",
            " [15.0 'Moderate' 'no' 'no' 92.0]\n",
            " [18.0 'Moderate' 'no' 'no' 66.0]\n",
            " [19.0 'Moderate' 'no' 'no' 92.0]\n",
            " [20.0 'Moderate' 'no' 'no' 93.0]\n",
            " [17.0 'Moderate' 'no' 'no' 93.0]\n",
            " [16.0 'Moderate' 'no' 'no' 92.0]\n",
            " [18.0 'Moderate' 'no' 'no' 93.0]\n",
            " [20.0 'Moderate' 'no' 'no' 92.0]\n",
            " [25.0 'Moderate' 'no' 'no' 93.0]\n",
            " [24.0 'Moderate' 'no' 'no' 92.0]\n",
            " [26.0 'High' 'no' 'no' 94.0]\n",
            " [28.0 'Moderate' 'no' 'no' 99.0]\n",
            " [29.0 'Moderate' 'no' 'no' 93.0]\n",
            " [30.0 'Moderate' 'no' 'no' 62.0]\n",
            " [19.0 'Moderate' 'no' 'no' 89.0]\n",
            " [25.0 'Moderate' 'no' 'yes' 86.0]\n",
            " [26.0 'Moderate' 'no' 'no' 82.07246376811594]\n",
            " [28.0 'Moderate' 'no' 'no' 89.0]\n",
            " [30.0 'Moderate' 'yes' 'no' 86.0]\n",
            " [35.0 'Moderate' 'no' 'no' 89.0]\n",
            " [32.0 'Moderate' 'no' 'yes' 84.0]\n",
            " [45.130434782608695 'Moderate' 'yes' 'no' 90.0]\n",
            " [32.0 'Moderate' 'no' 'no' 89.0]\n",
            " [35.0 'Moderate' 'no' 'yes' 92.0]\n",
            " [38.0 'High' 'no' 'no' 75.0]\n",
            " [40.0 'Moderate' 'no' 'yes' 90.0]\n",
            " [46.0 'High' 'yes' 'no' 91.0]\n",
            " [48.0 'Moderate' 'no' 'yes' 93.0]\n",
            " [42.0 'High' 'no' 'no' 92.0]\n",
            " [40.0 'High' 'no' 'no' 92.0]\n",
            " [49.0 'Moderate' 'no' 'no' 80.0]\n",
            " [50.0 'High' 'yes' 'yes' 77.0]\n",
            " [36.0 'High' 'yes' 'no' 90.0]\n",
            " [52.0 'High' 'yes' 'yes' 80.0]\n",
            " [56.0 'High' 'yes' 'yes' 77.0]\n",
            " [58.0 'High' 'no' 'no' 70.0]\n",
            " [59.0 'High' 'no' 'yes' 69.0]\n",
            " [60.0 'High' 'yes' 'yes' 68.0]\n",
            " [53.0 'High' 'yes' 'no' 55.0]\n",
            " [54.0 'High' 'yes' 'yes' 70.0]\n",
            " [62.0 'High' 'yes' 'yes' 68.0]\n",
            " [63.0 'High' 'yes' 'yes' 66.0]\n",
            " [68.0 'High' 'yes' 'no' 67.0]\n",
            " [69.0 'High' 'no' 'yes' 53.0]\n",
            " [64.0 'High' 'yes' 'yes' 73.0]\n",
            " [61.0 'High' 'yes' 'yes' 76.0]\n",
            " [70.0 'Moderate' 'no' 'yes' 88.0]\n",
            " [59.0 'High' 'yes' 'no' 68.0]\n",
            " [62.0 'High' 'yes' 'yes' 69.0]\n",
            " [78.0 'High' 'yes' 'yes' 71.0]\n",
            " [74.0 'High' 'yes' 'yes' 75.0]\n",
            " [75.0 'High' 'no' 'yes' 72.0]\n",
            " [56.0 'High' 'yes' 'no' 76.0]\n",
            " [80.0 'High' 'no' 'yes' 92.0]\n",
            " [82.0 'High' 'yes' 'yes' 73.0]\n",
            " [86.0 'High' 'yes' 'yes' 71.0]\n",
            " [90.0 'High' 'yes' 'yes' 67.0]\n",
            " [84.0 'High' 'yes' 'yes' 75.0]\n",
            " [86.0 'High' 'no' 'yes' 76.0]\n",
            " [61.0 'Moderate' 'no' 'yes' 90.0]\n",
            " [94.0 'High' 'yes' 'yes' 64.0]\n",
            " [81.0 'High' 'yes' 'yes' 75.0]\n",
            " [76.0 'High' 'yes' 'yes' 80.0]]\n"
          ]
        }
      ]
    },
    {
      "cell_type": "code",
      "source": [
        "imputer.fit(x[:, 0:5:4])\n",
        "x[:, 0:5:4]=imputer.transform(x[:, 0:5:4])\n",
        "print(x)"
      ],
      "metadata": {
        "colab": {
          "base_uri": "https://localhost:8080/"
        },
        "id": "rvzu6_t24Bj-",
        "outputId": "f6221fa9-f3d2-48a2-ddf0-be1dd52d77c9"
      },
      "execution_count": 9,
      "outputs": [
        {
          "output_type": "stream",
          "name": "stdout",
          "text": [
            "[[10.0 'Moderate' 'no' 'no' 97.0]\n",
            " [12.0 'Moderate' 'no' 'no' 97.0]\n",
            " [15.0 'Moderate' 'no' 'no' 94.0]\n",
            " [10.0 'Moderate' 'no' 'no' 97.0]\n",
            " [13.0 'Moderate' 'no' 'no' 94.0]\n",
            " [12.0 'Moderate' 'no' 'no' 97.0]\n",
            " [13.0 'Moderate' 'no' 'no' 93.0]\n",
            " [15.0 'Moderate' 'no' 'no' 92.0]\n",
            " [18.0 'Moderate' 'no' 'no' 66.0]\n",
            " [19.0 'Moderate' 'no' 'no' 92.0]\n",
            " [20.0 'Moderate' 'no' 'no' 93.0]\n",
            " [17.0 'Moderate' 'no' 'no' 93.0]\n",
            " [16.0 'Moderate' 'no' 'no' 92.0]\n",
            " [18.0 'Moderate' 'no' 'no' 93.0]\n",
            " [20.0 'Moderate' 'no' 'no' 92.0]\n",
            " [25.0 'Moderate' 'no' 'no' 93.0]\n",
            " [24.0 'Moderate' 'no' 'no' 92.0]\n",
            " [26.0 'High' 'no' 'no' 94.0]\n",
            " [28.0 'Moderate' 'no' 'no' 99.0]\n",
            " [29.0 'Moderate' 'no' 'no' 93.0]\n",
            " [30.0 'Moderate' 'no' 'no' 62.0]\n",
            " [19.0 'Moderate' 'no' 'no' 89.0]\n",
            " [25.0 'Moderate' 'no' 'yes' 86.0]\n",
            " [26.0 'Moderate' 'no' 'no' 82.07246376811594]\n",
            " [28.0 'Moderate' 'no' 'no' 89.0]\n",
            " [30.0 'Moderate' 'yes' 'no' 86.0]\n",
            " [35.0 'Moderate' 'no' 'no' 89.0]\n",
            " [32.0 'Moderate' 'no' 'yes' 84.0]\n",
            " [45.130434782608695 'Moderate' 'yes' 'no' 90.0]\n",
            " [32.0 'Moderate' 'no' 'no' 89.0]\n",
            " [35.0 'Moderate' 'no' 'yes' 92.0]\n",
            " [38.0 'High' 'no' 'no' 75.0]\n",
            " [40.0 'Moderate' 'no' 'yes' 90.0]\n",
            " [46.0 'High' 'yes' 'no' 91.0]\n",
            " [48.0 'Moderate' 'no' 'yes' 93.0]\n",
            " [42.0 'High' 'no' 'no' 92.0]\n",
            " [40.0 'High' 'no' 'no' 92.0]\n",
            " [49.0 'Moderate' 'no' 'no' 80.0]\n",
            " [50.0 'High' 'yes' 'yes' 77.0]\n",
            " [36.0 'High' 'yes' 'no' 90.0]\n",
            " [52.0 'High' 'yes' 'yes' 80.0]\n",
            " [56.0 'High' 'yes' 'yes' 77.0]\n",
            " [58.0 'High' 'no' 'no' 70.0]\n",
            " [59.0 'High' 'no' 'yes' 69.0]\n",
            " [60.0 'High' 'yes' 'yes' 68.0]\n",
            " [53.0 'High' 'yes' 'no' 55.0]\n",
            " [54.0 'High' 'yes' 'yes' 70.0]\n",
            " [62.0 'High' 'yes' 'yes' 68.0]\n",
            " [63.0 'High' 'yes' 'yes' 66.0]\n",
            " [68.0 'High' 'yes' 'no' 67.0]\n",
            " [69.0 'High' 'no' 'yes' 53.0]\n",
            " [64.0 'High' 'yes' 'yes' 73.0]\n",
            " [61.0 'High' 'yes' 'yes' 76.0]\n",
            " [70.0 'Moderate' 'no' 'yes' 88.0]\n",
            " [59.0 'High' 'yes' 'no' 68.0]\n",
            " [62.0 'High' 'yes' 'yes' 69.0]\n",
            " [78.0 'High' 'yes' 'yes' 71.0]\n",
            " [74.0 'High' 'yes' 'yes' 75.0]\n",
            " [75.0 'High' 'no' 'yes' 72.0]\n",
            " [56.0 'High' 'yes' 'no' 76.0]\n",
            " [80.0 'High' 'no' 'yes' 92.0]\n",
            " [82.0 'High' 'yes' 'yes' 73.0]\n",
            " [86.0 'High' 'yes' 'yes' 71.0]\n",
            " [90.0 'High' 'yes' 'yes' 67.0]\n",
            " [84.0 'High' 'yes' 'yes' 75.0]\n",
            " [86.0 'High' 'no' 'yes' 76.0]\n",
            " [61.0 'Moderate' 'no' 'yes' 90.0]\n",
            " [94.0 'High' 'yes' 'yes' 64.0]\n",
            " [81.0 'High' 'yes' 'yes' 75.0]\n",
            " [76.0 'High' 'yes' 'yes' 80.0]]\n"
          ]
        }
      ]
    },
    {
      "cell_type": "markdown",
      "source": [
        "ENCODING CATEGORICAL"
      ],
      "metadata": {
        "id": "7_dSTWE6Xd22"
      }
    },
    {
      "cell_type": "code",
      "source": [
        "from sklearn.compose import ColumnTransformer\n",
        "from sklearn.preprocessing import OneHotEncoder\n",
        "ct= ColumnTransformer(transformers=[('encoder', OneHotEncoder(), [1])], remainder='passthrough')\n",
        "x= np.array(ct.fit_transform(x))"
      ],
      "metadata": {
        "id": "BZfTVa48OQ4b"
      },
      "execution_count": 10,
      "outputs": []
    },
    {
      "cell_type": "code",
      "source": [
        "print(x)"
      ],
      "metadata": {
        "colab": {
          "base_uri": "https://localhost:8080/"
        },
        "id": "-eMaEmJrP71v",
        "outputId": "ca0e4bd9-b97b-412f-f24c-c1788d6b5a7c"
      },
      "execution_count": 11,
      "outputs": [
        {
          "output_type": "stream",
          "name": "stdout",
          "text": [
            "[[0.0 1.0 10.0 'no' 'no' 97.0]\n",
            " [0.0 1.0 12.0 'no' 'no' 97.0]\n",
            " [0.0 1.0 15.0 'no' 'no' 94.0]\n",
            " [0.0 1.0 10.0 'no' 'no' 97.0]\n",
            " [0.0 1.0 13.0 'no' 'no' 94.0]\n",
            " [0.0 1.0 12.0 'no' 'no' 97.0]\n",
            " [0.0 1.0 13.0 'no' 'no' 93.0]\n",
            " [0.0 1.0 15.0 'no' 'no' 92.0]\n",
            " [0.0 1.0 18.0 'no' 'no' 66.0]\n",
            " [0.0 1.0 19.0 'no' 'no' 92.0]\n",
            " [0.0 1.0 20.0 'no' 'no' 93.0]\n",
            " [0.0 1.0 17.0 'no' 'no' 93.0]\n",
            " [0.0 1.0 16.0 'no' 'no' 92.0]\n",
            " [0.0 1.0 18.0 'no' 'no' 93.0]\n",
            " [0.0 1.0 20.0 'no' 'no' 92.0]\n",
            " [0.0 1.0 25.0 'no' 'no' 93.0]\n",
            " [0.0 1.0 24.0 'no' 'no' 92.0]\n",
            " [1.0 0.0 26.0 'no' 'no' 94.0]\n",
            " [0.0 1.0 28.0 'no' 'no' 99.0]\n",
            " [0.0 1.0 29.0 'no' 'no' 93.0]\n",
            " [0.0 1.0 30.0 'no' 'no' 62.0]\n",
            " [0.0 1.0 19.0 'no' 'no' 89.0]\n",
            " [0.0 1.0 25.0 'no' 'yes' 86.0]\n",
            " [0.0 1.0 26.0 'no' 'no' 82.07246376811594]\n",
            " [0.0 1.0 28.0 'no' 'no' 89.0]\n",
            " [0.0 1.0 30.0 'yes' 'no' 86.0]\n",
            " [0.0 1.0 35.0 'no' 'no' 89.0]\n",
            " [0.0 1.0 32.0 'no' 'yes' 84.0]\n",
            " [0.0 1.0 45.130434782608695 'yes' 'no' 90.0]\n",
            " [0.0 1.0 32.0 'no' 'no' 89.0]\n",
            " [0.0 1.0 35.0 'no' 'yes' 92.0]\n",
            " [1.0 0.0 38.0 'no' 'no' 75.0]\n",
            " [0.0 1.0 40.0 'no' 'yes' 90.0]\n",
            " [1.0 0.0 46.0 'yes' 'no' 91.0]\n",
            " [0.0 1.0 48.0 'no' 'yes' 93.0]\n",
            " [1.0 0.0 42.0 'no' 'no' 92.0]\n",
            " [1.0 0.0 40.0 'no' 'no' 92.0]\n",
            " [0.0 1.0 49.0 'no' 'no' 80.0]\n",
            " [1.0 0.0 50.0 'yes' 'yes' 77.0]\n",
            " [1.0 0.0 36.0 'yes' 'no' 90.0]\n",
            " [1.0 0.0 52.0 'yes' 'yes' 80.0]\n",
            " [1.0 0.0 56.0 'yes' 'yes' 77.0]\n",
            " [1.0 0.0 58.0 'no' 'no' 70.0]\n",
            " [1.0 0.0 59.0 'no' 'yes' 69.0]\n",
            " [1.0 0.0 60.0 'yes' 'yes' 68.0]\n",
            " [1.0 0.0 53.0 'yes' 'no' 55.0]\n",
            " [1.0 0.0 54.0 'yes' 'yes' 70.0]\n",
            " [1.0 0.0 62.0 'yes' 'yes' 68.0]\n",
            " [1.0 0.0 63.0 'yes' 'yes' 66.0]\n",
            " [1.0 0.0 68.0 'yes' 'no' 67.0]\n",
            " [1.0 0.0 69.0 'no' 'yes' 53.0]\n",
            " [1.0 0.0 64.0 'yes' 'yes' 73.0]\n",
            " [1.0 0.0 61.0 'yes' 'yes' 76.0]\n",
            " [0.0 1.0 70.0 'no' 'yes' 88.0]\n",
            " [1.0 0.0 59.0 'yes' 'no' 68.0]\n",
            " [1.0 0.0 62.0 'yes' 'yes' 69.0]\n",
            " [1.0 0.0 78.0 'yes' 'yes' 71.0]\n",
            " [1.0 0.0 74.0 'yes' 'yes' 75.0]\n",
            " [1.0 0.0 75.0 'no' 'yes' 72.0]\n",
            " [1.0 0.0 56.0 'yes' 'no' 76.0]\n",
            " [1.0 0.0 80.0 'no' 'yes' 92.0]\n",
            " [1.0 0.0 82.0 'yes' 'yes' 73.0]\n",
            " [1.0 0.0 86.0 'yes' 'yes' 71.0]\n",
            " [1.0 0.0 90.0 'yes' 'yes' 67.0]\n",
            " [1.0 0.0 84.0 'yes' 'yes' 75.0]\n",
            " [1.0 0.0 86.0 'no' 'yes' 76.0]\n",
            " [0.0 1.0 61.0 'no' 'yes' 90.0]\n",
            " [1.0 0.0 94.0 'yes' 'yes' 64.0]\n",
            " [1.0 0.0 81.0 'yes' 'yes' 75.0]\n",
            " [1.0 0.0 76.0 'yes' 'yes' 80.0]]\n"
          ]
        }
      ]
    },
    {
      "cell_type": "code",
      "source": [
        "from sklearn.preprocessing import LabelEncoder\n",
        "Le=LabelEncoder()\n",
        "y=Le.fit_transform(y)"
      ],
      "metadata": {
        "id": "s1xXjBQXSLj7"
      },
      "execution_count": 12,
      "outputs": []
    },
    {
      "cell_type": "code",
      "source": [
        "print(y)"
      ],
      "metadata": {
        "colab": {
          "base_uri": "https://localhost:8080/"
        },
        "id": "dobDtpdPSlo8",
        "outputId": "50c8c1de-a78d-4536-c3e6-45c915e94896"
      },
      "execution_count": 13,
      "outputs": [
        {
          "output_type": "stream",
          "name": "stdout",
          "text": [
            "[0 0 0 0 0 0 0 0 1 0 0 0 0 0 0 0 0 0 0 0 1 0 0 0 0 0 0 0 0 0 0 1 0 0 0 0 0\n",
            " 1 1 0 1 1 1 1 1 1 1 1 1 1 1 1 1 0 1 1 1 1 1 1 0 1 1 1 1 1 0 1 1 1]\n"
          ]
        }
      ]
    },
    {
      "cell_type": "markdown",
      "source": [
        "SPLITTING INTO TEST AND TRAIN"
      ],
      "metadata": {
        "id": "KhFj9Qg8Xw3W"
      }
    },
    {
      "cell_type": "code",
      "source": [
        "from sklearn.model_selection import train_test_split\n",
        "x_train, x_test, y_train, y_test= train_test_split(x, y, test_size=0.2, random_state=1)"
      ],
      "metadata": {
        "id": "mW9GTkL9UOoJ"
      },
      "execution_count": 14,
      "outputs": []
    },
    {
      "cell_type": "code",
      "source": [
        "print(x_train)"
      ],
      "metadata": {
        "colab": {
          "base_uri": "https://localhost:8080/"
        },
        "id": "A21RHw8BUUs6",
        "outputId": "9fa26ca7-b373-430f-d688-5e6777c22ce8"
      },
      "execution_count": 15,
      "outputs": [
        {
          "output_type": "stream",
          "name": "stdout",
          "text": [
            "[[1.0 0.0 59.0 'no' 'yes' 69.0]\n",
            " [1.0 0.0 74.0 'yes' 'yes' 75.0]\n",
            " [1.0 0.0 86.0 'yes' 'yes' 71.0]\n",
            " [1.0 0.0 61.0 'yes' 'yes' 76.0]\n",
            " [1.0 0.0 62.0 'yes' 'yes' 69.0]\n",
            " [1.0 0.0 62.0 'yes' 'yes' 68.0]\n",
            " [1.0 0.0 64.0 'yes' 'yes' 73.0]\n",
            " [0.0 1.0 48.0 'no' 'yes' 93.0]\n",
            " [0.0 1.0 19.0 'no' 'no' 89.0]\n",
            " [1.0 0.0 56.0 'yes' 'no' 76.0]\n",
            " [0.0 1.0 10.0 'no' 'no' 97.0]\n",
            " [1.0 0.0 50.0 'yes' 'yes' 77.0]\n",
            " [1.0 0.0 46.0 'yes' 'no' 91.0]\n",
            " [1.0 0.0 75.0 'no' 'yes' 72.0]\n",
            " [0.0 1.0 20.0 'no' 'no' 93.0]\n",
            " [0.0 1.0 25.0 'no' 'no' 93.0]\n",
            " [0.0 1.0 29.0 'no' 'no' 93.0]\n",
            " [1.0 0.0 52.0 'yes' 'yes' 80.0]\n",
            " [0.0 1.0 28.0 'no' 'no' 89.0]\n",
            " [0.0 1.0 18.0 'no' 'no' 66.0]\n",
            " [1.0 0.0 26.0 'no' 'no' 94.0]\n",
            " [0.0 1.0 10.0 'no' 'no' 97.0]\n",
            " [1.0 0.0 90.0 'yes' 'yes' 67.0]\n",
            " [1.0 0.0 60.0 'yes' 'yes' 68.0]\n",
            " [1.0 0.0 82.0 'yes' 'yes' 73.0]\n",
            " [1.0 0.0 94.0 'yes' 'yes' 64.0]\n",
            " [0.0 1.0 18.0 'no' 'no' 93.0]\n",
            " [0.0 1.0 25.0 'no' 'yes' 86.0]\n",
            " [0.0 1.0 40.0 'no' 'yes' 90.0]\n",
            " [0.0 1.0 35.0 'no' 'yes' 92.0]\n",
            " [1.0 0.0 56.0 'yes' 'yes' 77.0]\n",
            " [1.0 0.0 54.0 'yes' 'yes' 70.0]\n",
            " [0.0 1.0 26.0 'no' 'no' 82.07246376811594]\n",
            " [0.0 1.0 13.0 'no' 'no' 94.0]\n",
            " [0.0 1.0 20.0 'no' 'no' 92.0]\n",
            " [0.0 1.0 32.0 'no' 'no' 89.0]\n",
            " [0.0 1.0 45.130434782608695 'yes' 'no' 90.0]\n",
            " [1.0 0.0 58.0 'no' 'no' 70.0]\n",
            " [0.0 1.0 17.0 'no' 'no' 93.0]\n",
            " [1.0 0.0 78.0 'yes' 'yes' 71.0]\n",
            " [0.0 1.0 28.0 'no' 'no' 99.0]\n",
            " [1.0 0.0 76.0 'yes' 'yes' 80.0]\n",
            " [0.0 1.0 30.0 'no' 'no' 62.0]\n",
            " [1.0 0.0 69.0 'no' 'yes' 53.0]\n",
            " [0.0 1.0 30.0 'yes' 'no' 86.0]\n",
            " [0.0 1.0 13.0 'no' 'no' 93.0]\n",
            " [1.0 0.0 53.0 'yes' 'no' 55.0]\n",
            " [0.0 1.0 15.0 'no' 'no' 92.0]\n",
            " [1.0 0.0 81.0 'yes' 'yes' 75.0]\n",
            " [0.0 1.0 12.0 'no' 'no' 97.0]\n",
            " [0.0 1.0 24.0 'no' 'no' 92.0]\n",
            " [1.0 0.0 84.0 'yes' 'yes' 75.0]\n",
            " [0.0 1.0 12.0 'no' 'no' 97.0]\n",
            " [0.0 1.0 19.0 'no' 'no' 92.0]\n",
            " [0.0 1.0 16.0 'no' 'no' 92.0]\n",
            " [0.0 1.0 49.0 'no' 'no' 80.0]]\n"
          ]
        }
      ]
    },
    {
      "cell_type": "code",
      "source": [
        "print(x_test)"
      ],
      "metadata": {
        "colab": {
          "base_uri": "https://localhost:8080/"
        },
        "id": "xFvWqBn5Ubi1",
        "outputId": "1ca85518-96ce-4971-ed55-12648e3e834b"
      },
      "execution_count": 16,
      "outputs": [
        {
          "output_type": "stream",
          "name": "stdout",
          "text": [
            "[[1.0 0.0 86.0 'no' 'yes' 76.0]\n",
            " [0.0 1.0 35.0 'no' 'no' 89.0]\n",
            " [0.0 1.0 61.0 'no' 'yes' 90.0]\n",
            " [1.0 0.0 59.0 'yes' 'no' 68.0]\n",
            " [0.0 1.0 32.0 'no' 'yes' 84.0]\n",
            " [1.0 0.0 80.0 'no' 'yes' 92.0]\n",
            " [1.0 0.0 68.0 'yes' 'no' 67.0]\n",
            " [1.0 0.0 40.0 'no' 'no' 92.0]\n",
            " [1.0 0.0 63.0 'yes' 'yes' 66.0]\n",
            " [1.0 0.0 38.0 'no' 'no' 75.0]\n",
            " [0.0 1.0 15.0 'no' 'no' 94.0]\n",
            " [1.0 0.0 36.0 'yes' 'no' 90.0]\n",
            " [0.0 1.0 70.0 'no' 'yes' 88.0]\n",
            " [1.0 0.0 42.0 'no' 'no' 92.0]]\n"
          ]
        }
      ]
    },
    {
      "cell_type": "code",
      "source": [
        "print(y_train)"
      ],
      "metadata": {
        "colab": {
          "base_uri": "https://localhost:8080/"
        },
        "id": "N874907ZUfeW",
        "outputId": "a1c9065d-7767-4bdb-aabb-73f5048d6d34"
      },
      "execution_count": 17,
      "outputs": [
        {
          "output_type": "stream",
          "name": "stdout",
          "text": [
            "[1 1 1 1 1 1 1 0 0 1 0 1 0 1 0 0 0 1 0 1 0 0 1 1 1 1 0 0 0 0 1 1 0 0 0 0 0\n",
            " 1 0 1 0 1 1 1 0 0 1 0 1 0 0 1 0 0 0 1]\n"
          ]
        }
      ]
    },
    {
      "cell_type": "code",
      "source": [
        "print(y_test)"
      ],
      "metadata": {
        "colab": {
          "base_uri": "https://localhost:8080/"
        },
        "id": "tixGMmOJUkS5",
        "outputId": "6eace57a-5675-4307-8736-999c19da27e7"
      },
      "execution_count": 18,
      "outputs": [
        {
          "output_type": "stream",
          "name": "stdout",
          "text": [
            "[1 0 0 1 0 0 1 0 1 1 0 0 0 0]\n"
          ]
        }
      ]
    },
    {
      "cell_type": "markdown",
      "source": [
        "FEATURE SCALING"
      ],
      "metadata": {
        "id": "9kce1_qVX3Da"
      }
    },
    {
      "cell_type": "code",
      "source": [
        "from sklearn.preprocessing import StandardScaler\n",
        "sc= StandardScaler()\n",
        "x_train[:, 5:]=sc.fit_transform(x_train[:, 5:])\n",
        "x_test[:, 5:]=sc.transform(x_test[:, 5:])"
      ],
      "metadata": {
        "id": "7nn49sA3WXrF"
      },
      "execution_count": 19,
      "outputs": []
    },
    {
      "cell_type": "code",
      "source": [
        "print(x_train)"
      ],
      "metadata": {
        "colab": {
          "base_uri": "https://localhost:8080/"
        },
        "id": "v_Q4ChalW0TV",
        "outputId": "87d4f9fc-8f50-492d-f8e5-7f8d93bae1e5"
      },
      "execution_count": 20,
      "outputs": [
        {
          "output_type": "stream",
          "name": "stdout",
          "text": [
            "[[1.0 0.0 59.0 'no' 'yes' -1.0803987055046962]\n",
            " [1.0 0.0 74.0 'yes' 'yes' -0.5748592462352978]\n",
            " [1.0 0.0 86.0 'yes' 'yes' -0.9118855524148967]\n",
            " [1.0 0.0 61.0 'yes' 'yes' -0.4906026696903981]\n",
            " [1.0 0.0 62.0 'yes' 'yes' -1.0803987055046962]\n",
            " [1.0 0.0 62.0 'yes' 'yes' -1.164655282049596]\n",
            " [1.0 0.0 64.0 'yes' 'yes' -0.7433723993250972]\n",
            " [0.0 1.0 48.0 'no' 'yes' 0.941759131572897]\n",
            " [0.0 1.0 19.0 'no' 'no' 0.6047328253932982]\n",
            " [1.0 0.0 56.0 'yes' 'no' -0.4906026696903981]\n",
            " [0.0 1.0 10.0 'no' 'no' 1.2787854377524959]\n",
            " [1.0 0.0 50.0 'yes' 'yes' -0.4063460931454984]\n",
            " [1.0 0.0 46.0 'yes' 'no' 0.7732459784830976]\n",
            " [1.0 0.0 75.0 'no' 'yes' -0.827628975869997]\n",
            " [0.0 1.0 20.0 'no' 'no' 0.941759131572897]\n",
            " [0.0 1.0 25.0 'no' 'no' 0.941759131572897]\n",
            " [0.0 1.0 29.0 'no' 'no' 0.941759131572897]\n",
            " [1.0 0.0 52.0 'yes' 'yes' -0.15357636351079926]\n",
            " [0.0 1.0 28.0 'no' 'no' 0.6047328253932982]\n",
            " [0.0 1.0 18.0 'no' 'no' -1.3331684351393953]\n",
            " [1.0 0.0 26.0 'no' 'no' 1.0260157081177967]\n",
            " [0.0 1.0 10.0 'no' 'no' 1.2787854377524959]\n",
            " [1.0 0.0 90.0 'yes' 'yes' -1.2489118585944956]\n",
            " [1.0 0.0 60.0 'yes' 'yes' -1.164655282049596]\n",
            " [1.0 0.0 82.0 'yes' 'yes' -0.7433723993250972]\n",
            " [1.0 0.0 94.0 'yes' 'yes' -1.5016815882291947]\n",
            " [0.0 1.0 18.0 'no' 'no' 0.941759131572897]\n",
            " [0.0 1.0 25.0 'no' 'yes' 0.351963095758599]\n",
            " [0.0 1.0 40.0 'no' 'yes' 0.6889894019381979]\n",
            " [0.0 1.0 35.0 'no' 'yes' 0.8575025550279973]\n",
            " [1.0 0.0 56.0 'yes' 'yes' -0.4063460931454984]\n",
            " [1.0 0.0 54.0 'yes' 'yes' -0.9961421289597965]\n",
            " [0.0 1.0 26.0 'no' 'no' 0.021042338603992558]\n",
            " [0.0 1.0 13.0 'no' 'no' 1.0260157081177967]\n",
            " [0.0 1.0 20.0 'no' 'no' 0.8575025550279973]\n",
            " [0.0 1.0 32.0 'no' 'no' 0.6047328253932982]\n",
            " [0.0 1.0 45.130434782608695 'yes' 'no' 0.6889894019381979]\n",
            " [1.0 0.0 58.0 'no' 'no' -0.9961421289597965]\n",
            " [0.0 1.0 17.0 'no' 'no' 0.941759131572897]\n",
            " [1.0 0.0 78.0 'yes' 'yes' -0.9118855524148967]\n",
            " [0.0 1.0 28.0 'no' 'no' 1.4472985908422953]\n",
            " [1.0 0.0 76.0 'yes' 'yes' -0.15357636351079926]\n",
            " [0.0 1.0 30.0 'no' 'no' -1.6701947413189941]\n",
            " [1.0 0.0 69.0 'no' 'yes' -2.4285039302230915]\n",
            " [0.0 1.0 30.0 'yes' 'no' 0.351963095758599]\n",
            " [0.0 1.0 13.0 'no' 'no' 0.941759131572897]\n",
            " [1.0 0.0 53.0 'yes' 'no' -2.259990777133292]\n",
            " [0.0 1.0 15.0 'no' 'no' 0.8575025550279973]\n",
            " [1.0 0.0 81.0 'yes' 'yes' -0.5748592462352978]\n",
            " [0.0 1.0 12.0 'no' 'no' 1.2787854377524959]\n",
            " [0.0 1.0 24.0 'no' 'no' 0.8575025550279973]\n",
            " [1.0 0.0 84.0 'yes' 'yes' -0.5748592462352978]\n",
            " [0.0 1.0 12.0 'no' 'no' 1.2787854377524959]\n",
            " [0.0 1.0 19.0 'no' 'no' 0.8575025550279973]\n",
            " [0.0 1.0 16.0 'no' 'no' 0.8575025550279973]\n",
            " [0.0 1.0 49.0 'no' 'no' -0.15357636351079926]]\n"
          ]
        }
      ]
    }
  ]
}